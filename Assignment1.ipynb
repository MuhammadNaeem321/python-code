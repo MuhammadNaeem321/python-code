{
 "cells": [
  {
   "cell_type": "code",
   "execution_count": 2,
   "metadata": {},
   "outputs": [
    {
     "name": "stdout",
     "output_type": "stream",
     "text": [
      "Enter the radius of the Circle 3\n",
      "28.278\n"
     ]
    }
   ],
   "source": [
    "#Calculating thr Area for the Given radius of Circle \n",
    "radius=float(input(\"Enter the radius of the Circle \"))\n",
    "Area=3.142*(radius)**2\n",
    "print(Area)"
   ]
  },
  {
   "cell_type": "code",
   "execution_count": 3,
   "metadata": {},
   "outputs": [
    {
     "name": "stdout",
     "output_type": "stream",
     "text": [
      "Enter the numerator5\n",
      "Enter the denominator3\n",
      "It is Not divisible\n"
     ]
    }
   ],
   "source": [
    "#Checking the divisibility of a number\n",
    "number=int(input(\"Enter the numerator\"))\n",
    "denominator=int(input(\"Enter the denominator\"))\n",
    "if number%denominator==0:\n",
    "    print(\" It is Divisible\")\n",
    "else:\n",
    "    print(\"It is Not divisible\")"
   ]
  },
  {
   "cell_type": "code",
   "execution_count": 4,
   "metadata": {},
   "outputs": [
    {
     "name": "stdout",
     "output_type": "stream",
     "text": [
      "Enter the number2\n",
      "It is an Even Number\n"
     ]
    }
   ],
   "source": [
    "#Checking if a number is even or odd\n",
    "number=int(input(\"Enter the number\"))\n",
    "if number%2==0:\n",
    "    print(\"It is an Even Number\")\n",
    "else:\n",
    "    print(\"It is an Odd Number\")"
   ]
  },
  {
   "cell_type": "code",
   "execution_count": 5,
   "metadata": {},
   "outputs": [
    {
     "name": "stdout",
     "output_type": "stream",
     "text": [
      "Enter the alphabet , Only in lower case4\n",
      "Not vowel\n"
     ]
    }
   ],
   "source": [
    "#Checking if the entered value is vovel or not\n",
    "vowel=['a','e','i','o','u']\n",
    "alpha=input(\"Enter the alphabet , Only in lower case\")\n",
    "for b in vowel:\n",
    "    if alpha==b:\n",
    "        print('Vowel')\n",
    "    else:\n",
    "        print('Not vowel')\n",
    "    break"
   ]
  },
  {
   "cell_type": "code",
   "execution_count": 6,
   "metadata": {},
   "outputs": [
    {
     "name": "stdout",
     "output_type": "stream",
     "text": [
      "Enter the radius of sphere5\n",
      "523.6666666666666\n"
     ]
    }
   ],
   "source": [
    "#Calculating volume of sphere\n",
    "radius=float(input(\"Enter the radius of sphere\"))\n",
    "Volume=(4/3)*3.142*(radius)**3\n",
    "print(Volume)"
   ]
  },
  {
   "cell_type": "code",
   "execution_count": 7,
   "metadata": {},
   "outputs": [
    {
     "name": "stdout",
     "output_type": "stream",
     "text": [
      "Enter x12\n",
      "Enter x24\n",
      "Enter y15\n",
      "Enter y23\n",
      "2.8284271247461903\n"
     ]
    }
   ],
   "source": [
    "#Calculating Eucleadian distance (also known as distance formula)\n",
    "import math\n",
    "x1=int(input(\"Enter x1\"))\n",
    "x2=int(input('Enter x2'))\n",
    "y1=int(input('Enter y1'))\n",
    "y2=int(input('Enter y2'))\n",
    "distance1=((x2-x1)**2)+((y2-y1)**2)\n",
    "distance=math.sqrt(distance1)\n",
    "print(distance)"
   ]
  },
  {
   "cell_type": "code",
   "execution_count": 8,
   "metadata": {},
   "outputs": [
    {
     "name": "stdout",
     "output_type": "stream",
     "text": [
      "Enter the height5\n",
      "Enter the base3\n",
      "7.5\n"
     ]
    }
   ],
   "source": [
    "#Calculatte the area of the Triangle by given parameters\n",
    "X=int(input(\"Enter the height\"))\n",
    "Y=int(input(\"Enter the base\"))\n",
    "area=(1/2)*(X)*(Y)\n",
    "print(area)"
   ]
  },
  {
   "cell_type": "code",
   "execution_count": 9,
   "metadata": {},
   "outputs": [
    {
     "name": "stdout",
     "output_type": "stream",
     "text": [
      "Enter the number5\n",
      "Positive\n"
     ]
    }
   ],
   "source": [
    "#Checking positive,negative or zero of a number\n",
    "number=float(input(\"Enter the number\"))\n",
    "if number>0:\n",
    "    print(\"Positive\")\n",
    "elif number<0:\n",
    "    print(\"Negative\")\n",
    "elif number==0:\n",
    "    print(\"zero\")"
   ]
  },
  {
   "cell_type": "code",
   "execution_count": 10,
   "metadata": {},
   "outputs": [
    {
     "name": "stdout",
     "output_type": "stream",
     "text": [
      "Enter any decimal number: 3\n",
      "11"
     ]
    }
   ],
   "source": [
    "#Decimal to binary conversion\n",
    "def decimalToBinary(num):\n",
    "    if num > 1:\n",
    "        decimalToBinary(num//2)\n",
    "    print(num % 2, end='')\n",
    "\n",
    "number = int(input(\"Enter any decimal number: \"))\n",
    "decimalToBinary(number)"
   ]
  },
  {
   "cell_type": "code",
   "execution_count": 11,
   "metadata": {},
   "outputs": [
    {
     "name": "stdout",
     "output_type": "stream",
     "text": [
      "Enter principal (Orignal) ammount50000\n",
      "Enter intrest rate in %5\n",
      "Enter the time in Years4\n",
      "60000.0\n"
     ]
    }
   ],
   "source": [
    "#Calculating future value \n",
    "Principle=int(input('Enter principal (Orignal) ammount'))\n",
    "R=float(input('Enter intrest rate in %'))\n",
    "T=int(input('Enter the time in Years'))\n",
    "Interest=Principle*T*(R/100)\n",
    "final=Interest+Principle\n",
    "print(final)"
   ]
  },
  {
   "cell_type": "code",
   "execution_count": 12,
   "metadata": {},
   "outputs": [
    {
     "name": "stdout",
     "output_type": "stream",
     "text": [
      "Enter the height34\n",
      "height in centimeter is 1037.0\n"
     ]
    }
   ],
   "source": [
    "#Converting feet unit into the centimeter unit\n",
    "feet=float(input(\"Enter the height\"))\n",
    "cm=feet*30.5\n",
    "print('height in centimeter is',cm)"
   ]
  },
  {
   "cell_type": "code",
   "execution_count": 17,
   "metadata": {},
   "outputs": [
    {
     "name": "stdout",
     "output_type": "stream",
     "text": [
      "Enter your weight in kg2\n",
      "Enter your height in centimeters3\n"
     ]
    },
    {
     "ename": "NameError",
     "evalue": "name 'height1' is not defined",
     "output_type": "error",
     "traceback": [
      "\u001b[1;31m---------------------------------------------------------------------------\u001b[0m",
      "\u001b[1;31mNameError\u001b[0m                                 Traceback (most recent call last)",
      "\u001b[1;32m<ipython-input-17-80798e072a3b>\u001b[0m in \u001b[0;36m<module>\u001b[1;34m\u001b[0m\n\u001b[0;32m      4\u001b[0m \u001b[0mheight\u001b[0m\u001b[1;33m=\u001b[0m\u001b[0mfloat\u001b[0m\u001b[1;33m(\u001b[0m\u001b[0minput\u001b[0m\u001b[1;33m(\u001b[0m\u001b[1;34m'Enter your height in centimeters'\u001b[0m\u001b[1;33m)\u001b[0m\u001b[1;33m)\u001b[0m\u001b[1;33m\u001b[0m\u001b[1;33m\u001b[0m\u001b[0m\n\u001b[0;32m      5\u001b[0m \u001b[1;31m#height1 = math.sqrt(height)\u001b[0m\u001b[1;33m\u001b[0m\u001b[1;33m\u001b[0m\u001b[1;33m\u001b[0m\u001b[0m\n\u001b[1;32m----> 6\u001b[1;33m \u001b[0mheight2\u001b[0m\u001b[1;33m=\u001b[0m \u001b[0mheight1\u001b[0m\u001b[1;33m/\u001b[0m\u001b[1;36m100\u001b[0m\u001b[1;33m\u001b[0m\u001b[1;33m\u001b[0m\u001b[0m\n\u001b[0m\u001b[0;32m      7\u001b[0m \u001b[0mBMI\u001b[0m\u001b[1;33m=\u001b[0m\u001b[1;33m(\u001b[0m\u001b[0mweight\u001b[0m\u001b[1;33m)\u001b[0m\u001b[1;33m/\u001b[0m\u001b[1;33m(\u001b[0m\u001b[0mheight\u001b[0m\u001b[1;33m*\u001b[0m\u001b[0mheight\u001b[0m\u001b[1;33m)\u001b[0m\u001b[1;33m\u001b[0m\u001b[1;33m\u001b[0m\u001b[0m\n\u001b[0;32m      8\u001b[0m \u001b[0mprint\u001b[0m\u001b[1;33m(\u001b[0m\u001b[1;34m'The BMI is'\u001b[0m\u001b[1;33m,\u001b[0m\u001b[0mBMI\u001b[0m\u001b[1;33m)\u001b[0m\u001b[1;33m\u001b[0m\u001b[1;33m\u001b[0m\u001b[0m\n",
      "\u001b[1;31mNameError\u001b[0m: name 'height1' is not defined"
     ]
    }
   ],
   "source": [
    "#Calcuating the BMI\n",
    "hight1=0\n",
    "weight=float(input('Enter your weight in kg'))\n",
    "height=float(input('Enter your height in centimeters'))\n",
    "#height1 = math.sqrt(height)\n",
    "height2= height1/100\n",
    "BMI=(weight)/(height*height)\n",
    "print('The BMI is',BMI)"
   ]
  },
  {
   "cell_type": "code",
   "execution_count": 19,
   "metadata": {},
   "outputs": [
    {
     "name": "stdout",
     "output_type": "stream",
     "text": [
      "Please Enter any Number: 2\n",
      "\n",
      " Sum of the digits of Given Number = 2\n"
     ]
    }
   ],
   "source": [
    "# Python Program to find Sum of Digits of a Number using While Loop\n",
    "\n",
    "Number = int(input(\"Please Enter any Number: \"))\n",
    "Sum = 0\n",
    "\n",
    "while(Number > 0):\n",
    "    Reminder = Number % 10\n",
    "    Sum = Sum + Reminder\n",
    "    Number = Number //10\n",
    "\n",
    "print(\"\\n Sum of the digits of Given Number = %d\" %Sum)"
   ]
  },
  {
   "cell_type": "markdown",
   "metadata": {},
   "source": [
    "### Sum of n positive integers\n",
    "n=int(input('Enter the integer Value '))\n",
    "total=(n/2)*(2+(n-1))\n",
    "print(\"sum is \",total)"
   ]
  },
  {
   "cell_type": "code",
   "execution_count": 20,
   "metadata": {},
   "outputs": [
    {
     "name": "stdout",
     "output_type": "stream",
     "text": [
      "Enter the integer Value 2\n",
      "sum is  3.0\n"
     ]
    }
   ],
   "source": [
    "#Sum of n positive integers\n",
    "n=int(input('Enter the integer Value '))\n",
    "total=(n/2)*(2+(n-1))\n",
    "print(\"sum is \",total)"
   ]
  },
  {
   "cell_type": "code",
   "execution_count": 21,
   "metadata": {},
   "outputs": [
    {
     "name": "stdout",
     "output_type": "stream",
     "text": [
      "Enter the phraseMy name is muhammad naeem\n",
      "How many times to repeat the Phrase?3\n",
      "My name is muhammad naeemMy name is muhammad naeemMy name is muhammad naeem\n"
     ]
    }
   ],
   "source": [
    "#Printing a string n times\n",
    "str=input('Enter the phrase')\n",
    "number=int(input('How many times to repeat the Phrase?' ))\n",
    "print(str*number)"
   ]
  },
  {
   "cell_type": "code",
   "execution_count": 22,
   "metadata": {},
   "outputs": [
    {
     "name": "stdout",
     "output_type": "stream",
     "text": [
      "\n",
      "* \n",
      "* * \n",
      "* * * \n",
      "* * * * \n",
      "* * * * * \n",
      "* * * * * * \n",
      "* * * * * * * \n",
      "* * * * * * * * \n",
      "* * * * * * * * * \n",
      "* * * * * * * * * * \n",
      "* * * * * * * * * \n",
      "* * * * * * * * \n",
      "* * * * * * * \n",
      "* * * * * * \n",
      "* * * * * \n",
      "* * * * \n",
      "* * * \n",
      "* * \n",
      "* \n"
     ]
    }
   ],
   "source": [
    "#Writing a pattern\n",
    "n=10;\n",
    "for i in range(n):\n",
    "    for j in range(i):\n",
    "        print ('* ', end=\"\")\n",
    "    print('')\n",
    "\n",
    "for i in range(n,0,-1):\n",
    "    for j in range(i):\n",
    "        print('* ', end=\"\")\n",
    "    print('')"
   ]
  },
  {
   "cell_type": "code",
   "execution_count": 23,
   "metadata": {},
   "outputs": [
    {
     "name": "stdout",
     "output_type": "stream",
     "text": [
      "1\n",
      "1 2\n",
      "1 2 3\n",
      "1 2 3 4\n",
      "1 2 3 4 5\n",
      "1 2 3 4\n",
      "1 2 3\n",
      "1 2\n"
     ]
    }
   ],
   "source": [
    "print(\"1\")\n",
    "print(\"1 2\")\n",
    "print(\"1 2 3\")\n",
    "print(\"1 2 3 4\")\n",
    "print(\"1 2 3 4 5\")\n",
    "print(\"1 2 3 4\")\n",
    "print(\"1 2 3\")\n",
    "print(\"1 2\")\n"
   ]
  },
  {
   "cell_type": "code",
   "execution_count": 24,
   "metadata": {},
   "outputs": [
    {
     "name": "stdout",
     "output_type": "stream",
     "text": [
      "1\n",
      "2 2\n",
      "3 3 3\n",
      "4 4 4 4\n",
      "5 5 5 5 5\n",
      "6 6 6 6 6 6\n",
      "7 7 7 7 7 7 7\n",
      "8 8 8 8 8 8 8 8\n",
      "9 9 9 9 9 9 9 9 9\n"
     ]
    }
   ],
   "source": [
    "#number pattern\n",
    "print(\"1\")\n",
    "print(\"2 2\")\n",
    "print(\"3 3 3\")\n",
    "print(\"4 4 4 4\")\n",
    "print(\"5 5 5 5 5\")\n",
    "print(\"6 6 6 6 6 6\")\n",
    "print(\"7 7 7 7 7 7 7\")\n",
    "print(\"8 8 8 8 8 8 8 8\")\n",
    "print(\"9 9 9 9 9 9 9 9 9\")"
   ]
  },
  {
   "cell_type": "code",
   "execution_count": null,
   "metadata": {},
   "outputs": [],
   "source": []
  }
 ],
 "metadata": {
  "kernelspec": {
   "display_name": "Python 3",
   "language": "python",
   "name": "python3"
  }
 },
 "nbformat": 4,
 "nbformat_minor": 2
}
